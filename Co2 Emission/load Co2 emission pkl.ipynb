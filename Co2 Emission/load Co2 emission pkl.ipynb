{
 "cells": [
  {
   "cell_type": "code",
   "execution_count": 2,
   "metadata": {},
   "outputs": [],
   "source": [
    "#import libraries\n",
    "import json\n",
    "import pickle\n",
    "import numpy as np"
   ]
  },
  {
   "cell_type": "code",
   "execution_count": 4,
   "metadata": {},
   "outputs": [],
   "source": [
    "#load pickle file\n",
    "with open('Co2 emission city.pkl','rb') as f:\n",
    "    model=pickle.load(f)\n",
    "#load json file\n",
    "with open('columns.json','r') as fuel:\n",
    "    fueltypes=json.load(fuel)"
   ]
  },
  {
   "cell_type": "code",
   "execution_count": 5,
   "metadata": {},
   "outputs": [],
   "source": [
    "def predict_co2emission(FUELCONSUMPTION_CITY,FuelType):\n",
    "    fueltype='Fuel_'+FuelType.upper()\n",
    "    x=np.zeros(len(list(fueltypes.values())[0]))\n",
    "    try:\n",
    "        Fuel=list(fueltypes.values())[0].index(fueltype)  #get the index value of the fueltype in search  \n",
    "        #To replicate'X',fill row values with '0'.Later it can b changed\n",
    "        x[0]=FUELCONSUMPTION_CITY\n",
    "        x[Fuel]=1\n",
    "    except:\n",
    "        x[0]=FUELCONSUMPTION_CITY\n",
    "    return model.predict([x])[0]    "
   ]
  },
  {
   "cell_type": "code",
   "execution_count": 9,
   "metadata": {},
   "outputs": [
    {
     "name": "stdout",
     "output_type": "stream",
     "text": [
      "232.05847324750167\n"
     ]
    }
   ],
   "source": [
    "print(predict_co2emission(10,'d'))"
   ]
  },
  {
   "cell_type": "code",
   "execution_count": null,
   "metadata": {},
   "outputs": [],
   "source": []
  }
 ],
 "metadata": {
  "kernelspec": {
   "display_name": "Python 3",
   "language": "python",
   "name": "python3"
  },
  "language_info": {
   "codemirror_mode": {
    "name": "ipython",
    "version": 3
   },
   "file_extension": ".py",
   "mimetype": "text/x-python",
   "name": "python",
   "nbconvert_exporter": "python",
   "pygments_lexer": "ipython3",
   "version": "3.8.5"
  }
 },
 "nbformat": 4,
 "nbformat_minor": 4
}
